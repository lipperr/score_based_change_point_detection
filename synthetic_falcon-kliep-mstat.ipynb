{
 "cells": [
  {
   "cell_type": "markdown",
   "metadata": {},
   "source": [
    "# A. Markovich, N. Puchkin\n",
    "# Numerical experiments on synthetic data sets, described in the paper\n",
    "# \"Score-based change point detection via tracking the best of infinitely many experts\""
   ]
  },
  {
   "cell_type": "code",
   "execution_count": 1,
   "id": "9d74ca1b-2910-43a9-9e37-ddb6e662bacf",
   "metadata": {
    "thread": {
     "embedding": {
      "headIndex": 1,
      "headName": "response_encoding",
      "quantizedEmbedding": {
       "0": 165,
       "1": 128,
       "2": 197,
       "3": 17,
       "4": 153,
       "5": 173,
       "6": 198,
       "7": 128,
       "8": 50,
       "9": 128,
       "10": 127,
       "11": 196,
       "12": 127,
       "13": 128,
       "14": 109,
       "15": 187,
       "16": 44,
       "17": 204,
       "18": 136,
       "19": 145,
       "20": 128,
       "21": 127,
       "22": 43,
       "23": 166,
       "24": 127,
       "25": 10,
       "26": 179,
       "27": 128,
       "28": 127,
       "29": 127,
       "30": 225,
       "31": 50,
       "32": 168,
       "33": 76,
       "34": 128,
       "35": 127,
       "36": 127,
       "37": 216,
       "38": 127,
       "39": 127,
       "40": 127,
       "41": 150,
       "42": 127,
       "43": 127,
       "44": 236,
       "45": 74,
       "46": 128,
       "47": 251,
       "48": 15,
       "49": 127,
       "50": 176,
       "51": 14,
       "52": 128,
       "53": 20,
       "54": 254,
       "55": 127,
       "56": 68,
       "57": 194,
       "58": 38,
       "59": 127,
       "60": 128,
       "61": 128,
       "62": 195,
       "63": 147,
       "64": 128,
       "65": 58,
       "66": 97,
       "67": 127,
       "68": 128,
       "69": 104,
       "70": 219,
       "71": 128,
       "72": 128,
       "73": 83,
       "74": 127,
       "75": 128,
       "76": 127,
       "77": 19,
       "78": 151,
       "79": 97,
       "80": 127,
       "81": 45,
       "82": 11,
       "83": 165,
       "84": 127,
       "85": 172,
       "86": 127,
       "87": 14,
       "88": 54,
       "89": 17,
       "90": 241,
       "91": 226,
       "92": 99,
       "93": 128,
       "94": 9,
       "95": 30,
       "96": 127,
       "97": 20,
       "98": 10,
       "99": 159
      }
     },
     "ran": true,
     "user": "assistant"
    }
   },
   "outputs": [
    {
     "name": "stderr",
     "output_type": "stream",
     "text": [
      "<frozen importlib._bootstrap>:219: RuntimeWarning: scipy._lib.messagestream.MessageStream size changed, may indicate binary incompatibility. Expected 56 from C header, got 64 from PyObject\n"
     ]
    }
   ],
   "source": [
    "import numpy as np\n",
    "import scipy.stats as st\n",
    "import matplotlib.pyplot as plt\n",
    "import seaborn as sns\n",
    "from numpy.random import normal as randn, multivariate_normal as randmn\n",
    "import pandas as pd\n",
    "from collections.abc import Iterable\n",
    "from algorithms.score_based import *\n",
    "from algorithms.fast_contrastive_change_point import compute_test_stat_ftal\n",
    "from algorithms.kliep import compute_test_stat_kliep\n",
    "from algorithms.m_statistic import compute_test_stat_mmd\n",
    "from algorithms.cusum import compute_cusum\n",
    "%load_ext autoreload\n",
    "%autoreload 2"
   ]
  },
  {
   "cell_type": "code",
   "execution_count": 2,
   "id": "aad3f73d-ccd3-4619-913d-7194edba89cb",
   "metadata": {
    "thread": {
     "embedding": {
      "headIndex": 1,
      "headName": "response_encoding",
      "quantizedEmbedding": {
       "0": 79,
       "1": 6,
       "2": 35,
       "3": 52,
       "4": 184,
       "5": 210,
       "6": 253,
       "7": 139,
       "8": 254,
       "9": 85,
       "10": 195,
       "11": 250,
       "12": 127,
       "13": 128,
       "14": 120,
       "15": 66,
       "16": 109,
       "17": 198,
       "18": 169,
       "19": 64,
       "20": 128,
       "21": 13,
       "22": 100,
       "23": 239,
       "24": 220,
       "25": 127,
       "26": 20,
       "27": 128,
       "28": 33,
       "29": 127,
       "30": 51,
       "31": 219,
       "32": 128,
       "33": 54,
       "34": 12,
       "35": 127,
       "36": 127,
       "37": 43,
       "38": 127,
       "39": 41,
       "40": 127,
       "41": 255,
       "42": 127,
       "43": 127,
       "44": 199,
       "45": 66,
       "46": 128,
       "47": 244,
       "48": 71,
       "49": 86,
       "50": 173,
       "51": 99,
       "52": 128,
       "53": 251,
       "54": 96,
       "55": 127,
       "56": 117,
       "57": 58,
       "58": 14,
       "59": 127,
       "60": 177,
       "61": 179,
       "62": 61,
       "63": 211,
       "64": 189,
       "65": 118,
       "66": 61,
       "67": 203,
       "68": 128,
       "69": 127,
       "70": 176,
       "71": 231,
       "72": 209,
       "73": 152,
       "74": 127,
       "75": 128,
       "76": 127,
       "77": 22,
       "78": 182,
       "79": 181,
       "80": 127,
       "81": 97,
       "82": 39,
       "83": 136,
       "84": 90,
       "85": 128,
       "86": 127,
       "87": 105,
       "88": 180,
       "89": 255,
       "90": 128,
       "91": 213,
       "92": 36,
       "93": 128,
       "94": 168,
       "95": 246,
       "96": 127,
       "97": 81,
       "98": 40,
       "99": 207
      }
     },
     "ran": true,
     "user": "assistant"
    }
   },
   "outputs": [],
   "source": [
    "# Auxiliary function for calculating average detection delay and the rate of false alarms\n",
    "\n",
    "def compute_delays_false_alarms(runs, S_list, threshold, tau):\n",
    "    delays = []\n",
    "    false_alarms = 0\n",
    "    not_detected = 0\n",
    "\n",
    "    for i in range(runs):\n",
    "\n",
    "        S = S_list[i]\n",
    "        res = np.ma.flatnotmasked_edges(np.ma.masked_array(S, S <= threshold))\n",
    "        if isinstance(res, Iterable):\n",
    "            imin, _ = res\n",
    "            if imin - tau <= 0:\n",
    "                print(imin, i)\n",
    "                false_alarms += 1\n",
    "            else:\n",
    "                delays.append(imin - tau)\n",
    "        else:\n",
    "            not_detected +=1\n",
    "\n",
    "    if not_detected == runs or false_alarms == runs:\n",
    "        return false_alarms, 0, 0, not_detected\n",
    "\n",
    "    delays = np.array(delays)\n",
    "    mean_delay = np.round(delays.mean(), 1)\n",
    "    std_delay = np.round(delays.std(), 1)\n",
    "\n",
    "    return false_alarms, mean_delay, std_delay, not_detected"
   ]
  },
  {
   "cell_type": "markdown",
   "metadata": {},
   "source": [
    "## Example 1: mean shift detection in a univariate sequence"
   ]
  },
  {
   "cell_type": "markdown",
   "metadata": {},
   "source": [
    "### KLIEP, Kernel change point detector with M-statistic, CUSUM"
   ]
  },
  {
   "cell_type": "code",
   "execution_count": 17,
   "metadata": {},
   "outputs": [
    {
     "name": "stdout",
     "output_type": "stream",
     "text": [
      "KLIEP. False alarms: 0\n",
      "KLIEP 9.3 ± 3.6 nd: 0\n",
      "M-statistic. False alarms: 0\n",
      "M-statistic 10.5 ± 3.8 nd: 0\n",
      "CUSUM. False alarms: 0\n",
      "CUSUM 5.4 ± 2.4 nd: 0\n"
     ]
    }
   ],
   "source": [
    "np.random.seed(1)\n",
    "\n",
    "# number of observations\n",
    "n = 300\n",
    "# true change point\n",
    "tau = 150\n",
    "\n",
    "# standard deviation \n",
    "sigma = 0.2\n",
    "\n",
    "# expectation after the change point\n",
    "mu = 2 * sigma\n",
    "\n",
    "runs = 10\n",
    "# initialization\n",
    "S_kliep_list = []\n",
    "S_mmd_list = []\n",
    "S_cusum_list = []\n",
    "\n",
    "\n",
    "for item in range(runs):\n",
    "    # generate time series\n",
    "    X = sigma * randn(size=n)\n",
    "    X[tau:] += mu\n",
    "\n",
    "    # run the algorithms\n",
    "    S_kliep, _ = compute_test_stat_kliep(X, window_size=20, sigma=0.33)\n",
    "    S_mmd, _ = compute_test_stat_mmd(X, window_size=20, sigma=1)\n",
    "    S_cusum, _ = compute_cusum(X)\n",
    "    \n",
    "    S_kliep_list.append(S_kliep)\n",
    "    S_mmd_list.append(S_mmd)\n",
    "    S_cusum_list.append(S_cusum)\n",
    "\n",
    "# compute the average delays and the number of false alarms\n",
    "threshold_kliep = 7.6216\n",
    "fa_kliep, DD_kliep, std_DD_kliep, not_detected = compute_delays_false_alarms(runs, S_kliep_list, threshold_kliep, tau)\n",
    "print('KLIEP. False alarms:', fa_kliep)\n",
    "print('KLIEP', DD_kliep, '±', std_DD_kliep, 'nd:', not_detected)\n",
    "\n",
    "threshold_mmd = 9.5924\n",
    "fa_mmd, DD_mmd, std_DD_mmd, not_detected = compute_delays_false_alarms(runs, S_mmd_list, threshold_mmd, tau)\n",
    "print('M-statistic. False alarms:', fa_mmd)\n",
    "print('M-statistic', DD_mmd, '±', std_DD_mmd, 'nd:', not_detected)\n",
    "\n",
    "threshold_cusum = 0.908\n",
    "fa_cusum, DD_cusum, std_DD_cusum, not_detected = compute_delays_false_alarms(runs, S_cusum_list, threshold_cusum, tau)\n",
    "print('CUSUM. False alarms:', fa_cusum)\n",
    "print('CUSUM', DD_cusum, '±', std_DD_cusum, 'nd:', not_detected)\n",
    "\n"
   ]
  },
  {
   "cell_type": "markdown",
   "metadata": {
    "rendered": true,
    "thread": {
     "ran": false,
     "user": "assistant"
    }
   },
   "source": [
    "### FALCON"
   ]
  },
  {
   "cell_type": "code",
   "execution_count": 8,
   "id": "b93ee801-95cc-4e7b-b2cf-9c27a48d175b",
   "metadata": {
    "thread": {
     "ran": false,
     "user": "assistant"
    }
   },
   "outputs": [],
   "source": [
    "# function calculates the threshold and runs the algorithm with each set of hyperparameters in a loop\n",
    "def train_params_falcon(p_list, beta_list):\n",
    "    n = 300\n",
    "    tau = 150\n",
    "    runs = 10\n",
    "    sigma = 0.2\n",
    "    dim = 1\n",
    "    p = 2\n",
    "\n",
    "    np.random.seed(1)\n",
    "    for p in p_list:\n",
    "        for b in beta_list:\n",
    "            # threshold \n",
    "            S_0 = np.empty((20, tau))\n",
    "            for item in range(20):\n",
    "                X = sigma * randn(size=tau).reshape((tau, dim, 1))                \n",
    "                S, _ = compute_test_stat_ftal(X, p, beta=b, design='hermite')\n",
    "                S_0[item] = S\n",
    "            threshold = np.max(S_0)\n",
    "            print('threshold = ', threshold)\n",
    "\n",
    "            # detection of change points \n",
    "            S_list = np.empty((runs, n))\n",
    "            for item in range(runs):\n",
    "                X = sigma * randn(size=n).reshape((n, dim, 1))      \n",
    "                X[tau:] += 2*sigma          \n",
    "                S, _ = compute_test_stat_ftal(X, p, beta=b, design='hermite')\n",
    "                S_list[item] = S\n",
    "\n",
    "            # computation of average delays and the number of false alarms\n",
    "            false_alarms, mean_delay, std_delay, not_detected = compute_delays_false_alarms(runs, S_list, threshold, tau)\n",
    "            print(f'power = {np.round(p, 4)}, beta = {np.round(b, 4)}', ' False alarms:', false_alarms, 'DD : ', mean_delay, '±', std_delay, 'not detected: ', not_detected)\n"
   ]
  },
  {
   "cell_type": "code",
   "execution_count": 112,
   "id": "414cca67-1bb0-47e3-aa82-6ec596ac7456",
   "metadata": {
    "thread": {
     "ran": false,
     "user": "assistant"
    }
   },
   "outputs": [
    {
     "name": "stdout",
     "output_type": "stream",
     "text": [
      "threshold =  0.7578262988665923\n",
      "86 0\n",
      "power = 2, beta = 0.001  False alarms: 1 DD :  6.8 ± 3.0 not detected:  0\n",
      "threshold =  3.3761725864138006\n",
      "power = 2, beta = 0.012  False alarms: 0 DD :  6.4 ± 1.8 not detected:  0\n",
      "threshold =  3.0363173495991074\n",
      "138 3\n",
      "power = 2, beta = 0.023  False alarms: 1 DD :  8.1 ± 3.0 not detected:  0\n",
      "threshold =  3.3071780674438105\n",
      "power = 2, beta = 0.034  False alarms: 0 DD :  10.5 ± 2.8 not detected:  0\n",
      "threshold =  2.9128866967056224\n",
      "power = 2, beta = 0.045  False alarms: 0 DD :  9.0 ± 2.0 not detected:  0\n",
      "threshold =  2.4409429220648913\n",
      "91 0\n",
      "power = 2, beta = 0.056  False alarms: 1 DD :  8.4 ± 2.6 not detected:  0\n",
      "threshold =  3.1905176535342417\n",
      "power = 2, beta = 0.067  False alarms: 0 DD :  10.0 ± 3.6 not detected:  0\n",
      "threshold =  2.7594323571309336\n",
      "power = 2, beta = 0.078  False alarms: 0 DD :  9.4 ± 2.8 not detected:  0\n",
      "threshold =  3.1559584714621494\n",
      "power = 2, beta = 0.089  False alarms: 0 DD :  10.5 ± 4.3 not detected:  0\n",
      "threshold =  2.264775166768371\n",
      "95 8\n",
      "power = 2, beta = 0.1  False alarms: 1 DD :  6.2 ± 3.8 not detected:  0\n"
     ]
    }
   ],
   "source": [
    "train_params_falcon([2], np.linspace(0.001, 0.1, 10))"
   ]
  },
  {
   "cell_type": "code",
   "execution_count": 65,
   "id": "4cc704ea-a706-4382-9878-44036dfdafaa",
   "metadata": {
    "thread": {
     "ran": false,
     "user": "assistant"
    }
   },
   "outputs": [
    {
     "name": "stdout",
     "output_type": "stream",
     "text": [
      "threshold =  2.871580818443185\n",
      "False alarms: 0 DD :  4.8 ± 2.4 not detected:  0\n"
     ]
    }
   ],
   "source": [
    "# number of observations\n",
    "n = 300\n",
    "\n",
    "# true change point\n",
    "tau = 150\n",
    "\n",
    "# standard deviation\n",
    "sigma = 0.2\n",
    "\n",
    "dim = 1\n",
    "runs = 10\n",
    "\n",
    "# hyperparameters\n",
    "b = 0.01\n",
    "p = 2\n",
    "\n",
    "np.random.seed(1)\n",
    "\n",
    "# threshold \n",
    "S_0 = np.empty((runs-1, tau))\n",
    "for item in range(runs-1):\n",
    "    X = sigma * randn(size=tau).reshape((tau, dim, 1))                \n",
    "    S, _ = compute_test_stat_ftal(X, p, beta=b, design='hermite')\n",
    "    S_0[item] = S\n",
    "\n",
    "# set the threshold as the maximum value over 9 runs\n",
    "threshold = np.max(S_0) \n",
    "print('threshold = ', threshold)\n",
    "\n",
    "# detection of change points \n",
    "S_list = np.empty((runs, n))\n",
    "for item in range(runs):\n",
    "\n",
    "    # generate data\n",
    "    X = sigma * randn(size=n).reshape((n, dim, 1))      \n",
    "    X[tau:] += 2*sigma          \n",
    "\n",
    "    # run the algorithm and compute the test statistic\n",
    "    S, _ = compute_test_stat_ftal(X, p, beta=b, design='hermite')\n",
    "    S_list[item] = S\n",
    "\n",
    "# computation of average delays and the number of false alarms\n",
    "false_alarms, mean_delay, std_delay, not_detected = compute_delays_false_alarms(runs, S_list, threshold, tau)\n",
    "print(f'False alarms:', false_alarms, 'DD : ', mean_delay, '±', std_delay, 'not detected: ', not_detected)\n"
   ]
  },
  {
   "cell_type": "markdown",
   "metadata": {
    "rendered": true,
    "thread": {
     "ran": false,
     "user": "assistant"
    }
   },
   "source": [
    "## Example 2: variance shift detection in a univariate sequence."
   ]
  },
  {
   "cell_type": "markdown",
   "metadata": {
    "rendered": true,
    "thread": {
     "ran": false,
     "user": "assistant"
    }
   },
   "source": [
    "### FALCON"
   ]
  },
  {
   "cell_type": "code",
   "execution_count": 5,
   "metadata": {},
   "outputs": [
    {
     "name": "stdout",
     "output_type": "stream",
     "text": [
      "threshold:  1.4474\n",
      "FA: 0 DD: 11.4 ± 5.1  not detected:  0\n"
     ]
    },
    {
     "data": {
      "image/png": "[encoded data removed]",
      "text/plain": [
       "<Figure size 432x288 with 1 Axes>"
      ]
     },
     "metadata": {
      "needs_background": "light"
     },
     "output_type": "display_data"
    }
   ],
   "source": [
    "np.random.seed(1)\n",
    "\n",
    "runs = 10\n",
    "# number of observations\n",
    "n = 300\n",
    "\n",
    "# true change point\n",
    "tau = 150\n",
    "\n",
    "# standard deviations pre- and post-change\n",
    "sigma1 = 0.1\n",
    "sigma2 = 0.3\n",
    "\n",
    "# hyperparameters\n",
    "p = 3\n",
    "b = 0.001\n",
    "\n",
    "# initialization\n",
    "S_hermite_list = []\n",
    "\n",
    "\n",
    "for item in range(runs):\n",
    "    # generate data\n",
    "    X = randn(size=n)\n",
    "    X[:tau] *= sigma1\n",
    "    X[tau:] *= sigma2\n",
    "\n",
    "    # run the algorithm and compute the test statistic\n",
    "    S_hermite, _ = compute_test_stat_ftal(X, p, beta=b, design='hermite')\n",
    "    S_hermite_list.append(S_hermite)\n",
    "\n",
    "threshold = 1.4474\n",
    "\n",
    "# compute the average delays and the number of false alarms\n",
    "fa_herm, DD_herm, std_DD_herm, not_detected = compute_delays_false_alarms(runs, S_hermite_list, threshold, tau)\n",
    "print('threshold: ', threshold)\n",
    "print('FA:', fa_herm, 'DD:', DD_herm, '±', std_DD_herm, ' not detected: ', not_detected)\n",
    "\n",
    "plt.plot(np.array(S_hermite_list).T)\n",
    "plt.show()"
   ]
  },
  {
   "cell_type": "markdown",
   "metadata": {},
   "source": [
    "### KLIEP, Kernel change point detector with M-statistic"
   ]
  },
  {
   "cell_type": "code",
   "execution_count": 7,
   "id": "6b6bbb36-352b-4c7b-910d-da805f49d176",
   "metadata": {
    "thread": {
     "ran": false,
     "user": "assistant"
    }
   },
   "outputs": [
    {
     "name": "stdout",
     "output_type": "stream",
     "text": [
      "KLIEP. threshold =  4.153\n",
      "False alarms: 0 DD:  21.8 ± 20.2 nd:  0\n",
      "M-statistic. threshold =  1.4474\n",
      "False alarms: 0 DD:  20.2 ± 14.4 nd:  0\n"
     ]
    }
   ],
   "source": [
    "np.random.seed(1)\n",
    "runs=10\n",
    "# number of observations\n",
    "n = 300\n",
    "# true change point\n",
    "tau = 150\n",
    "\n",
    "# standard deviations pre- and post-change\n",
    "sigma1 = 0.1\n",
    "sigma2 = 0.3\n",
    "\n",
    "# initialization\n",
    "S_kliep_list = []\n",
    "S_mmd_list = []\n",
    "\n",
    "for item in range(runs):\n",
    "    # generate data\n",
    "    X = randn(size=n)\n",
    "    X[:tau] *= sigma1\n",
    "    X[tau:] *= sigma2\n",
    "\n",
    "    # run the algorithms and compute the test statistics\n",
    "    S_kliep, _ = compute_test_stat_kliep(X, window_size=20, sigma=0.33)\n",
    "    S_mmd, _ = compute_test_stat_mmd(X, window_size=20, sigma=0.7)\n",
    "    \n",
    "    S_kliep_list.append(S_kliep)\n",
    "    S_mmd_list.append(S_mmd)\n",
    "\n",
    "\n",
    "# compute the average delays and the number of false alarms\n",
    "\n",
    "threshold_kliep = 4.153\n",
    "fa_kliep, DD_kliep, std_DD_kliep, not_detected = compute_delays_false_alarms(runs, S_kliep_list, threshold_kliep , tau)\n",
    "print('KLIEP. threshold = ', threshold_kliep)\n",
    "print('False alarms:', fa_kliep, 'DD: ', DD_kliep, '±', std_DD_kliep, 'nd: ', not_detected)\n",
    "\n",
    "threshold_mmd = 5.5565\n",
    "fa_mmd, DD_mmd, std_DD_mmd, not_detected = compute_delays_false_alarms(runs, S_mmd_list,threshold_mmd , tau)\n",
    "print('M-statistic. threshold = ', threshold)\n",
    "print('False alarms:', fa_mmd, 'DD: ', DD_mmd, '±', std_DD_mmd, 'nd: ', not_detected)\n"
   ]
  },
  {
   "cell_type": "markdown",
   "metadata": {
    "rendered": true,
    "thread": {
     "ran": false,
     "user": "assistant"
    }
   },
   "source": [
    "## Example 3: mean shift detection in a multivariate sequence."
   ]
  },
  {
   "cell_type": "markdown",
   "metadata": {},
   "source": [
    "### FALCON"
   ]
  },
  {
   "cell_type": "code",
   "execution_count": 8,
   "metadata": {},
   "outputs": [
    {
     "name": "stdout",
     "output_type": "stream",
     "text": [
      "0.0\n",
      "threshold:  0.0\n",
      "FALCON. False alarms: 0 DD:  1.4 ± 0.9\n"
     ]
    },
    {
     "data": {
      "image/png": "[encoded data removed]",
      "text/plain": [
       "<Figure size 432x288 with 1 Axes>"
      ]
     },
     "metadata": {
      "needs_background": "light"
     },
     "output_type": "display_data"
    }
   ],
   "source": [
    "np.random.seed(1)\n",
    "\n",
    "runs = 10\n",
    "dim=3\n",
    "\n",
    "# number of observations\n",
    "n = 300\n",
    "\n",
    "# true change point\n",
    "tau = 150\n",
    "\n",
    "# standard deviations of the coordinates\n",
    "sigma = np.array([0.1, 0.2, 0.3])\n",
    "\n",
    "# standard parameters for generating multivariate series\n",
    "mean = np.zeros(dim)\n",
    "cov = np.eye(dim)\n",
    "\n",
    "#threshold\n",
    "S_ftal_0 = np.empty((runs-1, tau))\n",
    "for item in range(runs-1):\n",
    "    X = randmn(mean, cov, size=tau) * sigma[None, :]\n",
    "    S_ftal, _ = compute_test_stat_ftal(X, p=1, beta=0.0001, design='multivariate')\n",
    "    S_ftal_0[item] = S_ftal\n",
    "\n",
    "# set the threshold as the maximum value over 9 runs\n",
    "threshold = np.max(S_ftal_0)\n",
    "print(threshold)\n",
    "\n",
    "\n",
    "S_ftal_list = np.empty((runs, n))\n",
    "for item in range(runs):\n",
    "    # generate data\n",
    "    X = randmn(mean, cov, size=n) * sigma[None, :]\n",
    "    X[tau:] += 3*sigma[None, :]\n",
    "    # run the algorithm and compute the test statistic\n",
    "    S_ftal, _ = compute_test_stat_ftal(X, p=1, beta=0.0001, design='multivariate')\n",
    "    S_ftal_list[item] = S_ftal\n",
    "\n",
    "# compute the average delays and the number of false alarms\n",
    "fa_ftal, DD_ftal, std_DD_ftal, nd = compute_delays_false_alarms(runs, S_ftal_list, threshold, tau)\n",
    "print('threshold: ', threshold)\n",
    "print('FALCON. False alarms:', fa_ftal, 'DD: ', DD_ftal, '±', std_DD_ftal)\n",
    "\n",
    "plt.plot(S_ftal_list.T)\n",
    "plt.show()\n",
    "\n",
    "\n",
    "\n"
   ]
  },
  {
   "cell_type": "markdown",
   "metadata": {},
   "source": [
    "### KLIEP"
   ]
  },
  {
   "cell_type": "code",
   "execution_count": 10,
   "metadata": {},
   "outputs": [],
   "source": [
    "# function calculates the threshold and runs the algorithm with each set of hyperparameters in a loop\n",
    "def train_params_kliep(b_list, thrs_add=0):\n",
    "    for b in b_list:\n",
    "        np.random.seed(1)\n",
    "        runs = 10\n",
    "        n = 300\n",
    "        tau = 150\n",
    "        dim=3\n",
    "        sigma = np.array([0.1, 0.2, 0.3])\n",
    "        mean = np.zeros(dim)\n",
    "        cov = np.eye(dim)\n",
    "\n",
    "        S_kliep_0 = np.empty((runs-1, tau))\n",
    "\n",
    "        #threshold\n",
    "        for item in range(runs-1):\n",
    "            X = randmn(mean, cov, size=tau) * sigma[None, :]\n",
    "            S_kliep, _ = compute_test_stat_kliep(X,window_size=20, sigma=b)\n",
    "            S_kliep_0[item] = S_kliep\n",
    "\n",
    "        threshold = np.max(S_kliep_0) + thrs_add\n",
    "        print(threshold)\n",
    "\n",
    "        # detection of change points \n",
    "        S_kliep_list = np.empty((runs, n))\n",
    "        for item in range(runs):\n",
    "            X = randmn(mean, cov, size=n) * sigma[None, :]\n",
    "            X[tau:] += 3*sigma[None, :]\n",
    "            \n",
    "            S_kliep, _ = compute_test_stat_kliep(X,window_size=20, sigma=b)\n",
    "            S_kliep_list[item] = S_kliep\n",
    "\n",
    "        # computation of average delays and the number of false alarms\n",
    "        fa_kliep, DD_kliep, std_DD_kliep, nd = compute_delays_false_alarms(runs, S_kliep_list, threshold, tau)\n",
    "        print('KLIEP. Threshold: ', threshold, 'False alarms:', fa_kliep, 'DD: ', DD_kliep, '±', std_DD_kliep, 'nd: ', nd)\n",
    "    return S_kliep_list"
   ]
  },
  {
   "cell_type": "code",
   "execution_count": 21,
   "metadata": {},
   "outputs": [
    {
     "name": "stdout",
     "output_type": "stream",
     "text": [
      "10.84784422461972\n"
     ]
    },
    {
     "name": "stderr",
     "output_type": "stream",
     "text": [
      "/Users/annal/.pyenv/versions/3.10.10/lib/python3.10/site-packages/cvxpy/atoms/elementwise/log.py:35: RuntimeWarning: invalid value encountered in log\n",
      "  return np.log(values[0])\n"
     ]
    },
    {
     "name": "stdout",
     "output_type": "stream",
     "text": [
      "139 1\n",
      "61 4\n",
      "KLIEP. Threshold:  10.84784422461972 False alarms: 2 DD:  4.2 ± 1.1 nd:  0\n",
      "4.0575831798711395\n",
      "139 1\n",
      "61 4\n",
      "KLIEP. Threshold:  4.0575831798711395 False alarms: 2 DD:  4.9 ± 1.9 nd:  0\n",
      "2.2445012435334832\n",
      "139 1\n",
      "KLIEP. Threshold:  2.2445012435334832 False alarms: 1 DD:  4.9 ± 2.2 nd:  0\n",
      "1.4863627309905454\n",
      "KLIEP. Threshold:  1.4863627309905454 False alarms: 0 DD:  6.3 ± 2.7 nd:  0\n",
      "1.154473224691578\n",
      "KLIEP. Threshold:  1.154473224691578 False alarms: 0 DD:  6.9 ± 2.5 nd:  0\n",
      "0.9686483562825992\n",
      "KLIEP. Threshold:  0.9686483562825992 False alarms: 0 DD:  7.8 ± 2.3 nd:  0\n"
     ]
    }
   ],
   "source": [
    "S = train_params_kliep([0.5, 1, 1.5, 2, 2.5, 3], thrs_add=0.5)"
   ]
  },
  {
   "cell_type": "code",
   "execution_count": 11,
   "metadata": {},
   "outputs": [
    {
     "name": "stdout",
     "output_type": "stream",
     "text": [
      "1.4863627309904721\n",
      "KLIEP. Threshold:  1.4863627309904721 False alarms: 0 DD:  6.3 ± 2.7 nd:  0\n"
     ]
    },
    {
     "data": {
      "image/png": "[encoded data removed]",
      "text/plain": [
       "<Figure size 432x288 with 1 Axes>"
      ]
     },
     "metadata": {
      "needs_background": "light"
     },
     "output_type": "display_data"
    }
   ],
   "source": [
    "S = train_params_kliep([2], thrs_add=0.5)\n",
    "plt.plot(S.T)\n",
    "plt.show()"
   ]
  },
  {
   "cell_type": "markdown",
   "metadata": {},
   "source": [
    "### Kernel change point with M-statistic"
   ]
  },
  {
   "cell_type": "code",
   "execution_count": 25,
   "metadata": {},
   "outputs": [],
   "source": [
    "# function calculates the threshold and runs the algorithm with each set of hyperparameters in a loop\n",
    "def train_params_mmd(b_list, thrs_add=0):\n",
    "    np.random.seed(1)\n",
    "    runs = 10\n",
    "    n = 300\n",
    "    tau = 150\n",
    "    dim=3\n",
    "    sigma = np.array([0.1, 0.2, 0.3])\n",
    "    mean = np.zeros(dim)\n",
    "    cov = np.eye(dim)\n",
    "\n",
    "    for b in b_list:\n",
    "        \n",
    "        #threshold\n",
    "        S_mmd_0 = np.empty((runs-1, tau))\n",
    "        for item in range(runs-1):\n",
    "            X = randmn(mean, cov, size=tau) * sigma[None, :]\n",
    "            S_mmd, _ = compute_test_stat_mmd(X,window_size=20, sigma=b)\n",
    "            S_mmd_0[item] = S_mmd\n",
    "\n",
    "        threshold = np.max(S_mmd_0) + thrs_add\n",
    "        print(threshold)\n",
    "\n",
    "        # detection of change points \n",
    "        S_mmd_list = np.empty((runs, n))\n",
    "        for item in range(runs):\n",
    "            X = randmn(mean, cov, size=n) * sigma[None, :]\n",
    "            X[tau:] += 3*sigma[None, :]\n",
    "            \n",
    "            S_mmd, _ = compute_test_stat_mmd(X,window_size=20, sigma=b)\n",
    "            S_mmd_list[item] = S_mmd\n",
    "\n",
    "        # computation of average delays and the number of false alarms\n",
    "        fa_mmd, DD_mmd, std_DD_mmd, nd = compute_delays_false_alarms(runs, S_mmd_list, threshold, tau)\n",
    "        print('M-statistic.', 'b= ', b, 'Threshold: ', threshold, 'False alarms:', fa_mmd, 'DD: ', DD_mmd, '±', std_DD_mmd, 'nd: ', nd)\n",
    "    return S_mmd_list"
   ]
  },
  {
   "cell_type": "code",
   "execution_count": 28,
   "id": "54c5a375-bef3-4a6d-a5d0-8a5c91c3080a",
   "metadata": {
    "thread": {
     "ran": false,
     "user": "assistant"
    }
   },
   "outputs": [
    {
     "name": "stdout",
     "output_type": "stream",
     "text": [
      "15.307726546509835\n",
      "141 1\n",
      "60 4\n",
      "M-statistic. b=  1 Threshold:  15.307726546509835 False alarms: 2 DD:  5.9 ± 1.7 nd:  0\n",
      "9.603042836792923\n",
      "59 4\n",
      "50 6\n",
      "M-statistic. b=  1.5 Threshold:  9.603042836792923 False alarms: 2 DD:  5.2 ± 1.4 nd:  0\n",
      "6.228984269459783\n",
      "59 4\n",
      "51 6\n",
      "M-statistic. b=  2 Threshold:  6.228984269459783 False alarms: 2 DD:  5.0 ± 1.4 nd:  0\n",
      "4.448021738683746\n",
      "59 4\n",
      "M-statistic. b=  2.5 Threshold:  4.448021738683746 False alarms: 1 DD:  5.6 ± 1.7 nd:  0\n",
      "3.4340687430145307\n",
      "60 4\n",
      "M-statistic. b=  3 Threshold:  3.4340687430145307 False alarms: 1 DD:  5.7 ± 1.6 nd:  0\n",
      "2.8061866457577933\n",
      "61 4\n",
      "M-statistic. b=  3.5 Threshold:  2.8061866457577933 False alarms: 1 DD:  5.7 ± 1.6 nd:  0\n",
      "2.391860519912583\n",
      "M-statistic. b=  4 Threshold:  2.391860519912583 False alarms: 0 DD:  6.1 ± 1.8 nd:  0\n",
      "2.104655830829787\n",
      "M-statistic. b=  4.5 Threshold:  2.104655830829787 False alarms: 0 DD:  6.3 ± 1.7 nd:  0\n",
      "1.8976345274999842\n",
      "M-statistic. b=  5 Threshold:  1.8976345274999842 False alarms: 0 DD:  6.6 ± 1.9 nd:  0\n"
     ]
    }
   ],
   "source": [
    "S = train_params_mmd(b_list=[1, 1.5, 2, 2.5, 3, 3.5, 4, 4.5, 5], thrs_add=1)"
   ]
  },
  {
   "cell_type": "code",
   "execution_count": 30,
   "metadata": {},
   "outputs": [
    {
     "name": "stdout",
     "output_type": "stream",
     "text": [
      "2.391860519912583\n",
      "M-statistic. b=  4 Threshold:  2.391860519912583 False alarms: 0 DD:  6.1 ± 1.8 nd:  0\n"
     ]
    }
   ],
   "source": [
    "S = train_params_mmd(b_list=[4], thrs_add=1)"
   ]
  },
  {
   "cell_type": "code",
   "execution_count": 31,
   "metadata": {},
   "outputs": [
    {
     "data": {
      "image/png": "[encoded data removed]",
      "text/plain": [
       "<Figure size 640x480 with 1 Axes>"
      ]
     },
     "metadata": {},
     "output_type": "display_data"
    }
   ],
   "source": [
    "plt.plot(S.T)\n",
    "plt.show()"
   ]
  },
  {
   "cell_type": "markdown",
   "metadata": {
    "rendered": true,
    "thread": {
     "ran": false,
     "user": "assistant"
    }
   },
   "source": [
    "## Example 4: variance shift detection in a multivariate sequence. "
   ]
  },
  {
   "cell_type": "markdown",
   "metadata": {},
   "source": [
    "### FALCON"
   ]
  },
  {
   "cell_type": "code",
   "execution_count": 12,
   "metadata": {},
   "outputs": [
    {
     "name": "stdout",
     "output_type": "stream",
     "text": [
      "FALCON. threshold:  0.0\n",
      "False alarms: 0 DD: 2.5 ± 1.4 nd: 0\n"
     ]
    },
    {
     "data": {
      "image/png": "[encoded data removed]",
      "text/plain": [
       "<Figure size 432x288 with 1 Axes>"
      ]
     },
     "metadata": {
      "needs_background": "light"
     },
     "output_type": "display_data"
    }
   ],
   "source": [
    "np.random.seed(1)\n",
    "\n",
    "dim = 3\n",
    "runs = 10\n",
    "\n",
    "# number of observations\n",
    "n = 300\n",
    "\n",
    "# true change point\n",
    "tau = 150\n",
    "\n",
    "# standard deviations pre- and post-change\n",
    "sigma1 = np.array([0.1, 0.2, 0.3])\n",
    "sigma2 = np.array([0.3, 0.6, 0.9])\n",
    "\n",
    "# standard parameters for generating data\n",
    "mean = np.zeros(dim)\n",
    "cov = np.eye(dim)\n",
    "\n",
    "#threshold\n",
    "S_ftal_0 = np.empty((runs-1, tau))\n",
    "for item in range(runs-1):\n",
    "    X = randmn(mean, cov, size=tau) * sigma[None, :]\n",
    "    S_ftal, _ = compute_test_stat_ftal(X, p=1, beta=0.0001, design='multivariate')\n",
    "    S_ftal_0[item] = S_ftal\n",
    "\n",
    "threshold = np.max(S_ftal_0)\n",
    "\n",
    "\n",
    "# detection of change points\n",
    "S_ftal_list = np.empty((runs, n))\n",
    "for item in range(runs):\n",
    "    # generate data\n",
    "    X = randmn(mean, cov, size=n)\n",
    "    X[:tau] *= sigma1[None, :] \n",
    "    X[tau:] *= sigma2[None, :] \n",
    "    # run the algorithm and compute the test statistic\n",
    "    S_ftal, _ = compute_test_stat_ftal(X, p=1, beta=1e-4, design='multivariate')\n",
    "    S_ftal_list[item] = S_ftal\n",
    "\n",
    "# compute the average delays and the number of false alarms\n",
    "fa_ftal, DD_ftal, std_DD_ftal, nd_ftal = compute_delays_false_alarms(runs, S_ftal_list, threshold, tau)\n",
    "print('FALCON. threshold: ', threshold )\n",
    "print('False alarms:', fa_ftal, 'DD:', DD_ftal, '±', std_DD_ftal, 'nd:', nd_ftal)\n",
    "\n",
    "plt.plot(S_ftal_list.T)\n",
    "plt.show()\n",
    "\n"
   ]
  },
  {
   "cell_type": "markdown",
   "metadata": {},
   "source": [
    "### KLIEP, Kernel change point with M-statistic"
   ]
  },
  {
   "cell_type": "code",
   "execution_count": 13,
   "metadata": {},
   "outputs": [
    {
     "name": "stdout",
     "output_type": "stream",
     "text": [
      "threshold:  1.4863627309904721\n",
      "KLIEP. False alarms: 0 DD:  31.3 ± 14.6 nd: 0\n",
      "threshold:  2.391860519912583\n",
      "MMD. False alarms: 0 DD:  26.3 ± 11.7 nd: 0\n"
     ]
    }
   ],
   "source": [
    "np.random.seed(1)\n",
    "\n",
    "runs = 10\n",
    "\n",
    "# number of observations\n",
    "n = 300\n",
    "\n",
    "# true change point\n",
    "tau = 150\n",
    "\n",
    "# standard deviaions pre- and post-change\n",
    "sigma1 = np.array([0.1, 0.2, 0.3])\n",
    "sigma2 = np.array([0.3, 0.6, 0.9])\n",
    "\n",
    "# standard deviations pre- and post-change\n",
    "mean = np.zeros(dim)\n",
    "cov = np.eye(dim)\n",
    "\n",
    "# Initialization\n",
    "S_kliep_list = np.empty((runs, n))\n",
    "S_mmd_list = np.empty((runs, n))\n",
    "\n",
    "\n",
    "#threshold\n",
    "S_kliep_0 = np.empty((runs-1, tau))\n",
    "S_mmd_0 = np.empty((runs-1, tau))\n",
    "for item in range(runs-1):\n",
    "    X = randmn(mean, cov, size=tau) * sigma[None, :]\n",
    "    S_kliep, _ = compute_test_stat_kliep(X,window_size=20, sigma=2)\n",
    "    S_kliep_0[item] = S_kliep\n",
    "    S_mmd, _ = compute_test_stat_mmd(X,window_size=20, sigma=4)\n",
    "    S_mmd_0[item] = S_mmd\n",
    "\n",
    "threshold_kliep = np.max(S_kliep_0) + 0.5\n",
    "threshold_mmd = np.max(S_mmd_0) +1\n",
    "\n",
    "\n",
    "# detection of change points\n",
    "for item in range(runs):\n",
    "    # generate data\n",
    "    X = randmn(mean, cov, size=n)\n",
    "    X[:tau] *= sigma1[None, :] \n",
    "    X[tau:] *= sigma2[None, :] \n",
    "\n",
    "    # run the algorithms and compute the test statistic\n",
    "    S_kliep, _ = compute_test_stat_kliep(X, window_size=20, sigma=2)\n",
    "    S_kliep_list[item] = S_kliep\n",
    "\n",
    "    S_mmd, _ = compute_test_stat_mmd(X, window_size=20, sigma=4)\n",
    "    S_mmd_list[item] = S_mmd\n",
    "\n",
    "# compute average delays and the number of false alarms\n",
    "fa_kliep, DD_kliep, std_DD_kliep, nd_kliep = compute_delays_false_alarms(runs, S_kliep_list, threshold_kliep, tau)       \n",
    "print('threshold: ', threshold_kliep)\n",
    "print('KLIEP. False alarms:', fa_kliep, 'DD: ',  DD_kliep, '±', std_DD_kliep, 'nd:', nd_kliep)\n",
    "\n",
    "\n",
    "fa_mmd, DD_mmd, std_DD_mmd, nd_mmd = compute_delays_false_alarms(runs, S_mmd_list, threshold_mmd, tau)\n",
    "print('threshold: ', threshold_mmd)\n",
    "print('MMD. False alarms:', fa_mmd, 'DD: ', DD_mmd, '±', std_DD_mmd, 'nd:', nd_mmd)\n",
    "\n",
    "\n"
   ]
  }
 ],
 "metadata": {
  "kernelspec": {
   "display_name": "Python 3",
   "language": "python",
   "name": "python3"
  },
  "language_info": {
   "codemirror_mode": {
    "name": "ipython",
    "version": 3
   },
   "file_extension": ".py",
   "mimetype": "text/x-python",
   "name": "python",
   "nbconvert_exporter": "python",
   "pygments_lexer": "ipython3",
   "version": "3.8.8"
  },
  "thread": {
   "kernelId": "97262d05-f050-41b7-901c-9723e51867e9",
   "sessionId": "a1037c66-3502-490a-b7e8-68dd84efe584"
  }
 },
 "nbformat": 4,
 "nbformat_minor": 2
}
